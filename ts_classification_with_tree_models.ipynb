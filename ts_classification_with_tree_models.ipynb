{
  "nbformat": 4,
  "nbformat_minor": 0,
  "metadata": {
    "colab": {
      "name": "time_series_classification_with_tree_models.ipynb",
      "provenance": [],
      "collapsed_sections": [],
      "toc_visible": true,
      "mount_file_id": "1FRPX28icfs2BD2-PYlqD8mpzrbUjaa0O",
      "authorship_tag": "ABX9TyMwq/qB+MMwnNdg5yI2KnSn",
      "include_colab_link": true
    },
    "kernelspec": {
      "name": "python3",
      "display_name": "Python 3"
    },
    "language_info": {
      "name": "python"
    }
  },
  "cells": [
    {
      "cell_type": "markdown",
      "metadata": {
        "id": "view-in-github",
        "colab_type": "text"
      },
      "source": [
        "<a href=\"https://colab.research.google.com/github/hiydavid/time_series_forecasting/blob/main/notebooks/time_series_classification_with_tree_models.ipynb\" target=\"_parent\"><img src=\"https://colab.research.google.com/assets/colab-badge.svg\" alt=\"Open In Colab\"/></a>"
      ]
    },
    {
      "cell_type": "markdown",
      "metadata": {
        "id": "Ciuqct3wryjT"
      },
      "source": [
        "# Time Series Classification with Tree Models\n",
        "\n",
        "---\n",
        "\n",
        "Perform time series forecasting with machine learning (ensemble tree) models, with models / libraies such as:\n",
        "1. Cesium [doc](http://cesium-ml.org/docs/feature_table.html)\n",
        "2. Random Forecast Model\n",
        "3. XGBoost Model\n",
        "4. Decision Tree Model"
      ]
    },
    {
      "cell_type": "markdown",
      "metadata": {
        "id": "FE9YBCH0sJF0"
      },
      "source": [
        "---\n",
        "# Loab libraries"
      ]
    },
    {
      "cell_type": "code",
      "metadata": {
        "id": "mE_3nvEW9qVw"
      },
      "source": [
        "!pip install cesium"
      ],
      "execution_count": 2,
      "outputs": []
    },
    {
      "cell_type": "code",
      "metadata": {
        "id": "9mdIrbvVrRp-"
      },
      "source": [
        "# load libraries\n",
        "import matplotlib.pyplot as plt\n",
        "plt.rcParams['figure.figsize'] = [10, 3]\n",
        "\n",
        "import warnings\n",
        "\n",
        "import cesium\n",
        "import xgboost as xgb\n",
        "import numpy as np\n",
        "import matplotlib.pyplot as plt\n",
        "import pandas as pd\n",
        "import time\n",
        "\n",
        "from cesium import datasets\n",
        "from cesium import featurize as ft\n",
        "\n",
        "import scipy\n",
        "from scipy.stats import pearsonr, spearmanr\n",
        "from scipy.stats import skew\n",
        "\n",
        "import sklearn\n",
        "from sklearn.ensemble import RandomForestClassifier\n",
        "from sklearn.metrics import accuracy_score\n",
        "from sklearn.model_selection import train_test_split\n",
        "\n",
        "warnings.filterwarnings(\"ignore\")\n",
        "path = '/content/drive/MyDrive/Colab/projects/time_series_forecasting/data/'"
      ],
      "execution_count": 86,
      "outputs": []
    },
    {
      "cell_type": "code",
      "metadata": {
        "colab": {
          "base_uri": "https://localhost:8080/"
        },
        "id": "WZOV9DzYsTe2",
        "outputId": "295762e3-1624-4708-a1a0-7f99acde69e1"
      },
      "source": [
        "# load data\n",
        "eeg = datasets.fetch_andrzejak()\n",
        "type(eeg)"
      ],
      "execution_count": 4,
      "outputs": [
        {
          "output_type": "stream",
          "text": [
            "Downloading data from https://github.com/cesium-ml/cesium-data/raw/master/andrzejak/\n"
          ],
          "name": "stderr"
        },
        {
          "output_type": "execute_result",
          "data": {
            "text/plain": [
              "dict"
            ]
          },
          "metadata": {
            "tags": []
          },
          "execution_count": 4
        }
      ]
    },
    {
      "cell_type": "code",
      "metadata": {
        "colab": {
          "base_uri": "https://localhost:8080/"
        },
        "id": "DOXZi1a99w16",
        "outputId": "6f25cc22-4f6f-445f-aae6-fce6ff012ad3"
      },
      "source": [
        "# view eeg keys\n",
        "eeg.keys()"
      ],
      "execution_count": 5,
      "outputs": [
        {
          "output_type": "execute_result",
          "data": {
            "text/plain": [
              "dict_keys(['times', 'measurements', 'classes', 'archive', 'header'])"
            ]
          },
          "metadata": {
            "tags": []
          },
          "execution_count": 5
        }
      ]
    },
    {
      "cell_type": "markdown",
      "metadata": {
        "id": "Mz1R0l093VON"
      },
      "source": [
        "---\n",
        "\n",
        "# Model #1: Cesium (Feature Generation)"
      ]
    },
    {
      "cell_type": "markdown",
      "metadata": {
        "id": "cP_F6bAvvPPv"
      },
      "source": [
        "## Visualize"
      ]
    },
    {
      "cell_type": "code",
      "metadata": {
        "colab": {
          "base_uri": "https://localhost:8080/",
          "height": 610
        },
        "id": "Abfnp9E6u1Ej",
        "outputId": "0c7bb360-3747-43ea-f133-28f3b4d5e6bd"
      },
      "source": [
        "# visual\n",
        "plt.subplot(3, 1, 1)\n",
        "plt.plot(eeg[\"measurements\"][0])\n",
        "plt.legend(eeg['classes'][0])\n",
        "plt.subplot(3, 1, 2)\n",
        "plt.plot(eeg[\"measurements\"][300])\n",
        "plt.legend(eeg['classes'][300])\n",
        "plt.subplot(3, 1, 3)\n",
        "plt.plot(eeg[\"measurements\"][450])\n",
        "plt.legend(eeg['classes'][450])"
      ],
      "execution_count": 6,
      "outputs": [
        {
          "output_type": "execute_result",
          "data": {
            "text/plain": [
              "<matplotlib.legend.Legend at 0x7fafbd5ffad0>"
            ]
          },
          "metadata": {
            "tags": []
          },
          "execution_count": 6
        },
        {
          "output_type": "display_data",
          "data": {
            "image/png": "[encoded data removed]",
            "text/plain": [
              "<Figure size 720x720 with 3 Axes>"
            ]
          },
          "metadata": {
            "tags": [],
            "needs_background": "light"
          }
        }
      ]
    },
    {
      "cell_type": "code",
      "metadata": {
        "colab": {
          "base_uri": "https://localhost:8080/"
        },
        "id": "AMoEfVOZ-VhF",
        "outputId": "f07e50d8-0083-4726-9b4f-0871549d7e38"
      },
      "source": [
        "# view data types\n",
        "print(type(eeg))\n",
        "print(eeg.keys())\n",
        "print(type(eeg['measurements']))\n",
        "print(type(eeg[\"measurements\"][0]))"
      ],
      "execution_count": 14,
      "outputs": [
        {
          "output_type": "stream",
          "text": [
            "<class 'dict'>\n",
            "dict_keys(['times', 'measurements', 'classes', 'archive', 'header'])\n",
            "<class 'list'>\n",
            "<class 'numpy.ndarray'>\n"
          ],
          "name": "stdout"
        }
      ]
    },
    {
      "cell_type": "code",
      "metadata": {
        "colab": {
          "base_uri": "https://localhost:8080/"
        },
        "id": "Z3jBp14c-VpC",
        "outputId": "c7537333-0d32-417c-bd27-3363e41994c4"
      },
      "source": [
        "# view data shape\n",
        "print(len(eeg['measurements']))\n",
        "print(eeg['measurements'][0].shape)"
      ],
      "execution_count": 15,
      "outputs": [
        {
          "output_type": "stream",
          "text": [
            "500\n",
            "(4097,)\n"
          ],
          "name": "stdout"
        }
      ]
    },
    {
      "cell_type": "markdown",
      "metadata": {
        "id": "CQ502UCb-7g1"
      },
      "source": [
        "## Generate Features"
      ]
    },
    {
      "cell_type": "code",
      "metadata": {
        "id": "HTZ2ZvZO-Vri"
      },
      "source": [
        "# use cesium to generate features\n",
        "from cesium import featurize as ft\n",
        "\n",
        "features_to_use = [\n",
        "    \"amplitude\", \"percent_beyond_1_std\", \"percent_close_to_median\", \n",
        "    \"skew\", \"max_slope\"\n",
        "    ]\n",
        "\n",
        "fset_cesium = ft.featurize_time_series(\n",
        "    times= eeg[\"times\"], \n",
        "    values = eeg[\"measurements\"], \n",
        "    errors = None, \n",
        "    features_to_use = features_to_use,\n",
        "    scheduler = None\n",
        "    )"
      ],
      "execution_count": 17,
      "outputs": []
    },
    {
      "cell_type": "code",
      "metadata": {
        "id": "4eLdlVwI-VuF"
      },
      "source": [
        "# # use this to import the same data\n",
        "# fset_cesium = pd.read_csv(path + 'full_eeg_data_features.csv', header = [0, 1])"
      ],
      "execution_count": 41,
      "outputs": []
    },
    {
      "cell_type": "code",
      "metadata": {
        "colab": {
          "base_uri": "https://localhost:8080/",
          "height": 252
        },
        "id": "SpZhoZuc_nRo",
        "outputId": "e479015a-c0bd-44c2-9780-16fac4513f1b"
      },
      "source": [
        "# view features\n",
        "print(fset_cesium.shape)\n",
        "fset_cesium.head()"
      ],
      "execution_count": 22,
      "outputs": [
        {
          "output_type": "stream",
          "text": [
            "(500, 5)\n"
          ],
          "name": "stdout"
        },
        {
          "output_type": "execute_result",
          "data": {
            "text/html": [
              "<div>\n",
              "<style scoped>\n",
              "    .dataframe tbody tr th:only-of-type {\n",
              "        vertical-align: middle;\n",
              "    }\n",
              "\n",
              "    .dataframe tbody tr th {\n",
              "        vertical-align: top;\n",
              "    }\n",
              "\n",
              "    .dataframe thead tr th {\n",
              "        text-align: left;\n",
              "    }\n",
              "</style>\n",
              "<table border=\"1\" class=\"dataframe\">\n",
              "  <thead>\n",
              "    <tr>\n",
              "      <th>feature</th>\n",
              "      <th>amplitude</th>\n",
              "      <th>percent_beyond_1_std</th>\n",
              "      <th>percent_close_to_median</th>\n",
              "      <th>skew</th>\n",
              "      <th>max_slope</th>\n",
              "    </tr>\n",
              "    <tr>\n",
              "      <th>channel</th>\n",
              "      <th>0</th>\n",
              "      <th>0</th>\n",
              "      <th>0</th>\n",
              "      <th>0</th>\n",
              "      <th>0</th>\n",
              "    </tr>\n",
              "  </thead>\n",
              "  <tbody>\n",
              "    <tr>\n",
              "      <th>0</th>\n",
              "      <td>143.5</td>\n",
              "      <td>0.327313</td>\n",
              "      <td>0.505004</td>\n",
              "      <td>0.032805</td>\n",
              "      <td>11107.796610</td>\n",
              "    </tr>\n",
              "    <tr>\n",
              "      <th>1</th>\n",
              "      <td>211.5</td>\n",
              "      <td>0.290212</td>\n",
              "      <td>0.640469</td>\n",
              "      <td>-0.092715</td>\n",
              "      <td>20653.559322</td>\n",
              "    </tr>\n",
              "    <tr>\n",
              "      <th>2</th>\n",
              "      <td>165.0</td>\n",
              "      <td>0.302660</td>\n",
              "      <td>0.515987</td>\n",
              "      <td>-0.004100</td>\n",
              "      <td>13537.627119</td>\n",
              "    </tr>\n",
              "    <tr>\n",
              "      <th>3</th>\n",
              "      <td>171.5</td>\n",
              "      <td>0.300952</td>\n",
              "      <td>0.541128</td>\n",
              "      <td>0.063678</td>\n",
              "      <td>17008.813559</td>\n",
              "    </tr>\n",
              "    <tr>\n",
              "      <th>4</th>\n",
              "      <td>170.0</td>\n",
              "      <td>0.305101</td>\n",
              "      <td>0.566268</td>\n",
              "      <td>0.142753</td>\n",
              "      <td>13016.949153</td>\n",
              "    </tr>\n",
              "  </tbody>\n",
              "</table>\n",
              "</div>"
            ],
            "text/plain": [
              "feature amplitude percent_beyond_1_std  ...      skew     max_slope\n",
              "channel         0                    0  ...         0             0\n",
              "0           143.5             0.327313  ...  0.032805  11107.796610\n",
              "1           211.5             0.290212  ... -0.092715  20653.559322\n",
              "2           165.0             0.302660  ... -0.004100  13537.627119\n",
              "3           171.5             0.300952  ...  0.063678  17008.813559\n",
              "4           170.0             0.305101  ...  0.142753  13016.949153\n",
              "\n",
              "[5 rows x 5 columns]"
            ]
          },
          "metadata": {
            "tags": []
          },
          "execution_count": 22
        }
      ]
    },
    {
      "cell_type": "markdown",
      "metadata": {
        "id": "saMkg08AAHWu"
      },
      "source": [
        "---\n",
        "# Model #2: Random Forest"
      ]
    },
    {
      "cell_type": "code",
      "metadata": {
        "id": "lDINcpmNAFYN"
      },
      "source": [
        "# train-test split\n",
        "X_train, X_test, y_train, y_test = train_test_split(\n",
        "     fset_cesium.iloc[:, 1:6].values, \n",
        "     eeg[\"classes\"], \n",
        "     random_state = 21\n",
        "     )"
      ],
      "execution_count": 24,
      "outputs": []
    },
    {
      "cell_type": "code",
      "metadata": {
        "id": "-N54p1rv_qeL"
      },
      "source": [
        "# initiate rf model\n",
        "clf = RandomForestClassifier(\n",
        "    n_estimators = 10, \n",
        "    max_depth = 3,\n",
        "    random_state = 21\n",
        "    )"
      ],
      "execution_count": 25,
      "outputs": []
    },
    {
      "cell_type": "code",
      "metadata": {
        "colab": {
          "base_uri": "https://localhost:8080/"
        },
        "id": "SECr6Ku5_qgU",
        "outputId": "6fe73614-758c-4af9-c670-31cb04c63dde"
      },
      "source": [
        "# fit model\n",
        "clf.fit(X_train, y_train)"
      ],
      "execution_count": 27,
      "outputs": [
        {
          "output_type": "execute_result",
          "data": {
            "text/plain": [
              "RandomForestClassifier(bootstrap=True, ccp_alpha=0.0, class_weight=None,\n",
              "                       criterion='gini', max_depth=3, max_features='auto',\n",
              "                       max_leaf_nodes=None, max_samples=None,\n",
              "                       min_impurity_decrease=0.0, min_impurity_split=None,\n",
              "                       min_samples_leaf=1, min_samples_split=2,\n",
              "                       min_weight_fraction_leaf=0.0, n_estimators=10,\n",
              "                       n_jobs=None, oob_score=False, random_state=21, verbose=0,\n",
              "                       warm_start=False)"
            ]
          },
          "metadata": {
            "tags": []
          },
          "execution_count": 27
        }
      ]
    },
    {
      "cell_type": "code",
      "metadata": {
        "colab": {
          "base_uri": "https://localhost:8080/"
        },
        "id": "GXbEau0Z_qim",
        "outputId": "edfa8a24-4a85-4cdc-bee5-31463b5509a4"
      },
      "source": [
        "# train score\n",
        "clf.score(X_train, y_train)"
      ],
      "execution_count": 28,
      "outputs": [
        {
          "output_type": "execute_result",
          "data": {
            "text/plain": [
              "0.6346666666666667"
            ]
          },
          "metadata": {
            "tags": []
          },
          "execution_count": 28
        }
      ]
    },
    {
      "cell_type": "code",
      "metadata": {
        "colab": {
          "base_uri": "https://localhost:8080/"
        },
        "id": "OKfUvOUG_qkw",
        "outputId": "c04786cb-8564-4bd8-c050-01705159b990"
      },
      "source": [
        "# test score\n",
        "clf.score(X_test, y_test)"
      ],
      "execution_count": 29,
      "outputs": [
        {
          "output_type": "execute_result",
          "data": {
            "text/plain": [
              "0.536"
            ]
          },
          "metadata": {
            "tags": []
          },
          "execution_count": 29
        }
      ]
    },
    {
      "cell_type": "markdown",
      "metadata": {
        "id": "OlIUYMqnBPt5"
      },
      "source": [
        "---\n",
        "# Model #3: XGBoost"
      ]
    },
    {
      "cell_type": "code",
      "metadata": {
        "colab": {
          "base_uri": "https://localhost:8080/"
        },
        "id": "mxpiNTOP_qnB",
        "outputId": "69e3fcdf-6a21-4fdf-9fb7-35735c00279c"
      },
      "source": [
        "# initiate and fit model\n",
        "model = xgb.XGBClassifier(\n",
        "    n_estimators = 10, \n",
        "    max_depth = 3,\n",
        "    random_state = 21)\n",
        "\n",
        "model.fit(X_train, y_train)"
      ],
      "execution_count": 30,
      "outputs": [
        {
          "output_type": "execute_result",
          "data": {
            "text/plain": [
              "XGBClassifier(base_score=0.5, booster='gbtree', colsample_bylevel=1,\n",
              "              colsample_bynode=1, colsample_bytree=1, gamma=0,\n",
              "              learning_rate=0.1, max_delta_step=0, max_depth=3,\n",
              "              min_child_weight=1, missing=None, n_estimators=10, n_jobs=1,\n",
              "              nthread=None, objective='multi:softprob', random_state=21,\n",
              "              reg_alpha=0, reg_lambda=1, scale_pos_weight=1, seed=None,\n",
              "              silent=None, subsample=1, verbosity=1)"
            ]
          },
          "metadata": {
            "tags": []
          },
          "execution_count": 30
        }
      ]
    },
    {
      "cell_type": "code",
      "metadata": {
        "colab": {
          "base_uri": "https://localhost:8080/"
        },
        "id": "gv3C8zxb_qpK",
        "outputId": "1500d8d8-1a18-4b9a-b2c4-f08e67734fb7"
      },
      "source": [
        "# train score\n",
        "model.score(X_train, y_train)"
      ],
      "execution_count": 33,
      "outputs": [
        {
          "output_type": "execute_result",
          "data": {
            "text/plain": [
              "0.6986666666666667"
            ]
          },
          "metadata": {
            "tags": []
          },
          "execution_count": 33
        }
      ]
    },
    {
      "cell_type": "code",
      "metadata": {
        "colab": {
          "base_uri": "https://localhost:8080/"
        },
        "id": "lpbedrJ0Bf8D",
        "outputId": "7d0eea63-d095-407b-be08-8a54adeab381"
      },
      "source": [
        "# test score\n",
        "model.score(X_test, y_test)"
      ],
      "execution_count": 34,
      "outputs": [
        {
          "output_type": "execute_result",
          "data": {
            "text/plain": [
              "0.6"
            ]
          },
          "metadata": {
            "tags": []
          },
          "execution_count": 34
        }
      ]
    },
    {
      "cell_type": "code",
      "metadata": {
        "colab": {
          "base_uri": "https://localhost:8080/",
          "height": 258
        },
        "id": "LRphKsYTBf-t",
        "outputId": "8d516f38-ad59-42ad-abaa-5d63ab3d3833"
      },
      "source": [
        "# feature importance\n",
        "xgb.plot_importance(model)"
      ],
      "execution_count": 87,
      "outputs": [
        {
          "output_type": "execute_result",
          "data": {
            "text/plain": [
              "<matplotlib.axes._subplots.AxesSubplot at 0x7fafb9b0d950>"
            ]
          },
          "metadata": {
            "tags": []
          },
          "execution_count": 87
        },
        {
          "output_type": "display_data",
          "data": {
            "image/png": "[encoded data removed]",
            "text/plain": [
              "<Figure size 720x216 with 1 Axes>"
            ]
          },
          "metadata": {
            "tags": [],
            "needs_background": "light"
          }
        }
      ]
    },
    {
      "cell_type": "markdown",
      "metadata": {
        "id": "bpnL9mOoBuFJ"
      },
      "source": [
        "---\n",
        "# Model #3: Forecasting with Decision Tree"
      ]
    },
    {
      "cell_type": "markdown",
      "metadata": {
        "id": "ZI3amSkYC-wv"
      },
      "source": [
        "## Load Data"
      ]
    },
    {
      "cell_type": "code",
      "metadata": {
        "colab": {
          "base_uri": "https://localhost:8080/",
          "height": 204
        },
        "id": "DfKLAPvrBgBE",
        "outputId": "4247a07a-a835-4265-ad74-5cf222318fdc"
      },
      "source": [
        "# get airline passenger data\n",
        "ap = pd.read_csv(path + 'AirPassengers.csv', parse_dates = [0])\n",
        "ap.head()"
      ],
      "execution_count": 46,
      "outputs": [
        {
          "output_type": "execute_result",
          "data": {
            "text/html": [
              "<div>\n",
              "<style scoped>\n",
              "    .dataframe tbody tr th:only-of-type {\n",
              "        vertical-align: middle;\n",
              "    }\n",
              "\n",
              "    .dataframe tbody tr th {\n",
              "        vertical-align: top;\n",
              "    }\n",
              "\n",
              "    .dataframe thead th {\n",
              "        text-align: right;\n",
              "    }\n",
              "</style>\n",
              "<table border=\"1\" class=\"dataframe\">\n",
              "  <thead>\n",
              "    <tr style=\"text-align: right;\">\n",
              "      <th></th>\n",
              "      <th>Month</th>\n",
              "      <th>#Passengers</th>\n",
              "    </tr>\n",
              "  </thead>\n",
              "  <tbody>\n",
              "    <tr>\n",
              "      <th>0</th>\n",
              "      <td>1949-01-01</td>\n",
              "      <td>112</td>\n",
              "    </tr>\n",
              "    <tr>\n",
              "      <th>1</th>\n",
              "      <td>1949-02-01</td>\n",
              "      <td>118</td>\n",
              "    </tr>\n",
              "    <tr>\n",
              "      <th>2</th>\n",
              "      <td>1949-03-01</td>\n",
              "      <td>132</td>\n",
              "    </tr>\n",
              "    <tr>\n",
              "      <th>3</th>\n",
              "      <td>1949-04-01</td>\n",
              "      <td>129</td>\n",
              "    </tr>\n",
              "    <tr>\n",
              "      <th>4</th>\n",
              "      <td>1949-05-01</td>\n",
              "      <td>121</td>\n",
              "    </tr>\n",
              "  </tbody>\n",
              "</table>\n",
              "</div>"
            ],
            "text/plain": [
              "       Month  #Passengers\n",
              "0 1949-01-01          112\n",
              "1 1949-02-01          118\n",
              "2 1949-03-01          132\n",
              "3 1949-04-01          129\n",
              "4 1949-05-01          121"
            ]
          },
          "metadata": {
            "tags": []
          },
          "execution_count": 46
        }
      ]
    },
    {
      "cell_type": "code",
      "metadata": {
        "colab": {
          "base_uri": "https://localhost:8080/",
          "height": 235
        },
        "id": "MK0rbBpMBgDQ",
        "outputId": "2a1deb73-9154-42e9-d4f4-2604b91ee0f9"
      },
      "source": [
        "# set index\n",
        "ap.set_index('Month', inplace = True)\n",
        "ap.head()"
      ],
      "execution_count": 47,
      "outputs": [
        {
          "output_type": "execute_result",
          "data": {
            "text/html": [
              "<div>\n",
              "<style scoped>\n",
              "    .dataframe tbody tr th:only-of-type {\n",
              "        vertical-align: middle;\n",
              "    }\n",
              "\n",
              "    .dataframe tbody tr th {\n",
              "        vertical-align: top;\n",
              "    }\n",
              "\n",
              "    .dataframe thead th {\n",
              "        text-align: right;\n",
              "    }\n",
              "</style>\n",
              "<table border=\"1\" class=\"dataframe\">\n",
              "  <thead>\n",
              "    <tr style=\"text-align: right;\">\n",
              "      <th></th>\n",
              "      <th>#Passengers</th>\n",
              "    </tr>\n",
              "    <tr>\n",
              "      <th>Month</th>\n",
              "      <th></th>\n",
              "    </tr>\n",
              "  </thead>\n",
              "  <tbody>\n",
              "    <tr>\n",
              "      <th>1949-01-01</th>\n",
              "      <td>112</td>\n",
              "    </tr>\n",
              "    <tr>\n",
              "      <th>1949-02-01</th>\n",
              "      <td>118</td>\n",
              "    </tr>\n",
              "    <tr>\n",
              "      <th>1949-03-01</th>\n",
              "      <td>132</td>\n",
              "    </tr>\n",
              "    <tr>\n",
              "      <th>1949-04-01</th>\n",
              "      <td>129</td>\n",
              "    </tr>\n",
              "    <tr>\n",
              "      <th>1949-05-01</th>\n",
              "      <td>121</td>\n",
              "    </tr>\n",
              "  </tbody>\n",
              "</table>\n",
              "</div>"
            ],
            "text/plain": [
              "            #Passengers\n",
              "Month                  \n",
              "1949-01-01          112\n",
              "1949-02-01          118\n",
              "1949-03-01          132\n",
              "1949-04-01          129\n",
              "1949-05-01          121"
            ]
          },
          "metadata": {
            "tags": []
          },
          "execution_count": 47
        }
      ]
    },
    {
      "cell_type": "code",
      "metadata": {
        "colab": {
          "base_uri": "https://localhost:8080/",
          "height": 228
        },
        "id": "XSfICK7_BgFZ",
        "outputId": "af5b697b-2c0e-450d-98e0-6df888f5f73d"
      },
      "source": [
        "# plot ap\n",
        "plt.plot(ap)"
      ],
      "execution_count": 88,
      "outputs": [
        {
          "output_type": "execute_result",
          "data": {
            "text/plain": [
              "[<matplotlib.lines.Line2D at 0x7fafb9bdab10>]"
            ]
          },
          "metadata": {
            "tags": []
          },
          "execution_count": 88
        },
        {
          "output_type": "display_data",
          "data": {
            "image/png": "[encoded data removed]",
            "text/plain": [
              "<Figure size 720x216 with 1 Axes>"
            ]
          },
          "metadata": {
            "tags": [],
            "needs_background": "light"
          }
        }
      ]
    },
    {
      "cell_type": "code",
      "metadata": {
        "colab": {
          "base_uri": "https://localhost:8080/",
          "height": 228
        },
        "id": "ikw87BGz_qrl",
        "outputId": "360ccd2a-249b-403d-b94d-631ac95b3583"
      },
      "source": [
        "# detrend and differenced\n",
        "plt.plot(np.diff(np.log(ap.values[:, 0])))"
      ],
      "execution_count": 89,
      "outputs": [
        {
          "output_type": "execute_result",
          "data": {
            "text/plain": [
              "[<matplotlib.lines.Line2D at 0x7fafb95119d0>]"
            ]
          },
          "metadata": {
            "tags": []
          },
          "execution_count": 89
        },
        {
          "output_type": "display_data",
          "data": {
            "image/png": "[encoded data removed]",
            "text/plain": [
              "<Figure size 720x216 with 1 Axes>"
            ]
          },
          "metadata": {
            "tags": [],
            "needs_background": "light"
          }
        }
      ]
    },
    {
      "cell_type": "markdown",
      "metadata": {
        "id": "a6uXKUSTDBxY"
      },
      "source": [
        "## Process Data"
      ]
    },
    {
      "cell_type": "code",
      "metadata": {
        "colab": {
          "base_uri": "https://localhost:8080/"
        },
        "id": "H4xTj3TfCq8K",
        "outputId": "c748f892-9fb4-4743-dd92-b1e6250dcbc2"
      },
      "source": [
        "# diff ts\n",
        "ts = np.diff(np.log(ap.values[:, 0]))\n",
        "ts.shape"
      ],
      "execution_count": 65,
      "outputs": [
        {
          "output_type": "execute_result",
          "data": {
            "text/plain": [
              "(143,)"
            ]
          },
          "metadata": {
            "tags": []
          },
          "execution_count": 65
        }
      ]
    },
    {
      "cell_type": "code",
      "metadata": {
        "colab": {
          "base_uri": "https://localhost:8080/"
        },
        "id": "5T-e-xEUDBIP",
        "outputId": "8e68be76-ff12-4796-986d-daffb6b7327e"
      },
      "source": [
        "# set time step\n",
        "NSTEPS = 12\n",
        "vals = np.hstack(\n",
        "    [np.expand_dims(\n",
        "        np.array(ts, dtype = np.float32), \n",
        "        axis = 1) for _ in range(NSTEPS )])\n",
        "\n",
        "vals"
      ],
      "execution_count": 66,
      "outputs": [
        {
          "output_type": "execute_result",
          "data": {
            "text/plain": [
              "array([[ 0.05218575,  0.05218575,  0.05218575, ...,  0.05218575,\n",
              "         0.05218575,  0.05218575],\n",
              "       [ 0.1121173 ,  0.1121173 ,  0.1121173 , ...,  0.1121173 ,\n",
              "         0.1121173 ,  0.1121173 ],\n",
              "       [-0.02298952, -0.02298952, -0.02298952, ..., -0.02298952,\n",
              "        -0.02298952, -0.02298952],\n",
              "       ...,\n",
              "       [-0.0970834 , -0.0970834 , -0.0970834 , ..., -0.0970834 ,\n",
              "        -0.0970834 , -0.0970834 ],\n",
              "       [-0.1672513 , -0.1672513 , -0.1672513 , ..., -0.1672513 ,\n",
              "        -0.1672513 , -0.1672513 ],\n",
              "       [ 0.10227885,  0.10227885,  0.10227885, ...,  0.10227885,\n",
              "         0.10227885,  0.10227885]], dtype=float32)"
            ]
          },
          "metadata": {
            "tags": []
          },
          "execution_count": 66
        }
      ]
    },
    {
      "cell_type": "code",
      "metadata": {
        "colab": {
          "base_uri": "https://localhost:8080/"
        },
        "id": "jrjt0U3eCq-m",
        "outputId": "2a269d65-3a68-4cfa-a184-8d8cd18824fb"
      },
      "source": [
        "#\n",
        "ts[0:NSTEPS]"
      ],
      "execution_count": 67,
      "outputs": [
        {
          "output_type": "execute_result",
          "data": {
            "text/plain": [
              "array([ 0.05218575,  0.1121173 , -0.02298952, -0.06402186,  0.10948423,\n",
              "        0.0919375 ,  0.        , -0.08455739, -0.13353139, -0.13473259,\n",
              "        0.12629373, -0.0257525 ])"
            ]
          },
          "metadata": {
            "tags": []
          },
          "execution_count": 67
        }
      ]
    },
    {
      "cell_type": "code",
      "metadata": {
        "colab": {
          "base_uri": "https://localhost:8080/"
        },
        "id": "PjncJo7_CrBD",
        "outputId": "4b458af4-97d7-4592-d028-ab3219a2da69"
      },
      "source": [
        "vals.shape"
      ],
      "execution_count": 68,
      "outputs": [
        {
          "output_type": "execute_result",
          "data": {
            "text/plain": [
              "(143, 12)"
            ]
          },
          "metadata": {
            "tags": []
          },
          "execution_count": 68
        }
      ]
    },
    {
      "cell_type": "code",
      "metadata": {
        "id": "qojKgPwEDbI8"
      },
      "source": [
        "nrow = vals.shape[0]\n",
        "for lag in range(1, vals.shape[1]):\n",
        "    vals[:(nrow - lag),lag] = vals[lag:,lag]\n",
        "    vals[(nrow - lag):, lag] = np.nan"
      ],
      "execution_count": 69,
      "outputs": []
    },
    {
      "cell_type": "code",
      "metadata": {
        "colab": {
          "base_uri": "https://localhost:8080/"
        },
        "id": "1LD2z82PDbMA",
        "outputId": "a86df5bc-dd2d-4db3-ed68-05206a95888d"
      },
      "source": [
        "vals"
      ],
      "execution_count": 70,
      "outputs": [
        {
          "output_type": "execute_result",
          "data": {
            "text/plain": [
              "array([[ 0.05218575,  0.1121173 , -0.02298952, ..., -0.13473259,\n",
              "         0.12629372, -0.0257525 ],\n",
              "       [ 0.1121173 , -0.02298952, -0.06402186, ...,  0.12629372,\n",
              "        -0.0257525 ,  0.09134978],\n",
              "       [-0.02298952, -0.06402186,  0.10948423, ..., -0.0257525 ,\n",
              "         0.09134978,  0.11247798],\n",
              "       ...,\n",
              "       [-0.0970834 , -0.1672513 ,  0.10227885, ...,         nan,\n",
              "                nan,         nan],\n",
              "       [-0.1672513 ,  0.10227885,         nan, ...,         nan,\n",
              "                nan,         nan],\n",
              "       [ 0.10227885,         nan,         nan, ...,         nan,\n",
              "                nan,         nan]], dtype=float32)"
            ]
          },
          "metadata": {
            "tags": []
          },
          "execution_count": 70
        }
      ]
    },
    {
      "cell_type": "code",
      "metadata": {
        "colab": {
          "base_uri": "https://localhost:8080/"
        },
        "id": "lh9XFllSDbO-",
        "outputId": "174d703e-e083-4d59-f240-a81c5eb8be8a"
      },
      "source": [
        "vals = vals[:(vals.shape[0] - NSTEPS + 1), :]\n",
        "vals.shape"
      ],
      "execution_count": 71,
      "outputs": [
        {
          "output_type": "execute_result",
          "data": {
            "text/plain": [
              "(132, 12)"
            ]
          },
          "metadata": {
            "tags": []
          },
          "execution_count": 71
        }
      ]
    },
    {
      "cell_type": "code",
      "metadata": {
        "colab": {
          "base_uri": "https://localhost:8080/",
          "height": 204
        },
        "id": "8wzbwtw5DvRU",
        "outputId": "d05cfc65-7be7-4de8-c382-037bd88c5b50"
      },
      "source": [
        "# featurize\n",
        "measures = [vals[i][0:(NSTEPS - 1)] for i in range(vals.shape[0])]\n",
        "times = [[j for j in range(NSTEPS - 1)] for i in range(vals.shape[0])]\n",
        "\n",
        "features_to_use = [\n",
        "    \"amplitude\", \"percent_beyond_1_std\", \"skew\", \n",
        "    \"max_slope\", \"percent_amplitude\"\n",
        "    ]\n",
        "\n",
        "fset_ap = ft.featurize_time_series(\n",
        "    times = times,\n",
        "    values = measures,\n",
        "    errors = None,\n",
        "    features_to_use = features_to_use,\n",
        "    scheduler = None\n",
        "    )\n",
        "\n",
        "fset_ap.columns = fset_ap.columns.droplevel(-1)\n",
        "\n",
        "fset_ap.head()"
      ],
      "execution_count": 75,
      "outputs": [
        {
          "output_type": "execute_result",
          "data": {
            "text/html": [
              "<div>\n",
              "<style scoped>\n",
              "    .dataframe tbody tr th:only-of-type {\n",
              "        vertical-align: middle;\n",
              "    }\n",
              "\n",
              "    .dataframe tbody tr th {\n",
              "        vertical-align: top;\n",
              "    }\n",
              "\n",
              "    .dataframe thead th {\n",
              "        text-align: right;\n",
              "    }\n",
              "</style>\n",
              "<table border=\"1\" class=\"dataframe\">\n",
              "  <thead>\n",
              "    <tr style=\"text-align: right;\">\n",
              "      <th>feature</th>\n",
              "      <th>amplitude</th>\n",
              "      <th>percent_beyond_1_std</th>\n",
              "      <th>skew</th>\n",
              "      <th>max_slope</th>\n",
              "      <th>percent_amplitude</th>\n",
              "    </tr>\n",
              "  </thead>\n",
              "  <tbody>\n",
              "    <tr>\n",
              "      <th>0</th>\n",
              "      <td>0.130513</td>\n",
              "      <td>0.454545</td>\n",
              "      <td>-0.155365</td>\n",
              "      <td>0.261026</td>\n",
              "      <td>0.132121</td>\n",
              "    </tr>\n",
              "    <tr>\n",
              "      <th>1</th>\n",
              "      <td>0.130513</td>\n",
              "      <td>0.545455</td>\n",
              "      <td>0.051772</td>\n",
              "      <td>0.261026</td>\n",
              "      <td>0.128461</td>\n",
              "    </tr>\n",
              "    <tr>\n",
              "      <th>2</th>\n",
              "      <td>0.130513</td>\n",
              "      <td>0.545455</td>\n",
              "      <td>0.037850</td>\n",
              "      <td>0.261026</td>\n",
              "      <td>0.128461</td>\n",
              "    </tr>\n",
              "    <tr>\n",
              "      <th>3</th>\n",
              "      <td>0.130513</td>\n",
              "      <td>0.454545</td>\n",
              "      <td>-0.192651</td>\n",
              "      <td>0.261026</td>\n",
              "      <td>0.132121</td>\n",
              "    </tr>\n",
              "    <tr>\n",
              "      <th>4</th>\n",
              "      <td>0.130513</td>\n",
              "      <td>0.454545</td>\n",
              "      <td>-0.233966</td>\n",
              "      <td>0.261026</td>\n",
              "      <td>0.132121</td>\n",
              "    </tr>\n",
              "  </tbody>\n",
              "</table>\n",
              "</div>"
            ],
            "text/plain": [
              "feature  amplitude  percent_beyond_1_std  ...  max_slope  percent_amplitude\n",
              "0         0.130513              0.454545  ...   0.261026           0.132121\n",
              "1         0.130513              0.545455  ...   0.261026           0.128461\n",
              "2         0.130513              0.545455  ...   0.261026           0.128461\n",
              "3         0.130513              0.454545  ...   0.261026           0.132121\n",
              "4         0.130513              0.454545  ...   0.261026           0.132121\n",
              "\n",
              "[5 rows x 5 columns]"
            ]
          },
          "metadata": {
            "tags": []
          },
          "execution_count": 75
        }
      ]
    },
    {
      "cell_type": "code",
      "metadata": {
        "colab": {
          "base_uri": "https://localhost:8080/",
          "height": 296
        },
        "id": "NPpvUvEFDbRf",
        "outputId": "a4524a5b-6dbe-4f49-cfa1-554b025b78ce"
      },
      "source": [
        "# view hist\n",
        "plt.hist(fset_ap.amplitude)"
      ],
      "execution_count": 90,
      "outputs": [
        {
          "output_type": "execute_result",
          "data": {
            "text/plain": [
              "(array([15.,  7.,  5., 23., 26., 17.,  6.,  6., 16., 11.]),\n",
              " array([0.12786029, 0.1352786 , 0.14269691, 0.15011522, 0.15753352,\n",
              "        0.16495183, 0.17237014, 0.17978845, 0.18720675, 0.19462506,\n",
              "        0.20204337]),\n",
              " <a list of 10 Patch objects>)"
            ]
          },
          "metadata": {
            "tags": []
          },
          "execution_count": 90
        },
        {
          "output_type": "display_data",
          "data": {
            "image/png": "[encoded data removed]",
            "text/plain": [
              "<Figure size 720x216 with 1 Axes>"
            ]
          },
          "metadata": {
            "tags": [],
            "needs_background": "light"
          }
        }
      ]
    },
    {
      "cell_type": "code",
      "metadata": {
        "colab": {
          "base_uri": "https://localhost:8080/",
          "height": 296
        },
        "id": "ySpeVJAgDbT-",
        "outputId": "b5b73913-f136-4d90-e09b-5b51ea3468e5"
      },
      "source": [
        "# view hist\n",
        "plt.hist(fset_ap.percent_amplitude)"
      ],
      "execution_count": 91,
      "outputs": [
        {
          "output_type": "execute_result",
          "data": {
            "text/plain": [
              "(array([16., 40., 35.,  4., 15.,  9.,  1.,  9.,  2.,  1.]),\n",
              " array([0.12414427, 0.14138614, 0.15862801, 0.17586988, 0.19311176,\n",
              "        0.21035363, 0.2275955 , 0.24483737, 0.26207924, 0.27932111,\n",
              "        0.29656298]),\n",
              " <a list of 10 Patch objects>)"
            ]
          },
          "metadata": {
            "tags": []
          },
          "execution_count": 91
        },
        {
          "output_type": "display_data",
          "data": {
            "image/png": "[encoded data removed]",
            "text/plain": [
              "<Figure size 720x216 with 1 Axes>"
            ]
          },
          "metadata": {
            "tags": [],
            "needs_background": "light"
          }
        }
      ]
    },
    {
      "cell_type": "code",
      "metadata": {
        "colab": {
          "base_uri": "https://localhost:8080/",
          "height": 296
        },
        "id": "D2Sx0QWnCrDr",
        "outputId": "d31dd257-9bc5-4e05-c443-59f43a62385d"
      },
      "source": [
        "# view hist\n",
        "plt.hist(fset_ap['skew'])"
      ],
      "execution_count": 92,
      "outputs": [
        {
          "output_type": "execute_result",
          "data": {
            "text/plain": [
              "(array([ 9., 11.,  8., 23., 26., 25., 18.,  9.,  2.,  1.]),\n",
              " array([-0.56547007, -0.45117751, -0.33688495, -0.22259239, -0.10829984,\n",
              "         0.00599272,  0.12028528,  0.23457784,  0.3488704 ,  0.46316296,\n",
              "         0.57745551]),\n",
              " <a list of 10 Patch objects>)"
            ]
          },
          "metadata": {
            "tags": []
          },
          "execution_count": 92
        },
        {
          "output_type": "display_data",
          "data": {
            "image/png": "[encoded data removed]",
            "text/plain": [
              "<Figure size 720x216 with 1 Axes>"
            ]
          },
          "metadata": {
            "tags": [],
            "needs_background": "light"
          }
        }
      ]
    },
    {
      "cell_type": "markdown",
      "metadata": {
        "id": "6l9DEMWhEX3D"
      },
      "source": [
        "## Fit Model"
      ]
    },
    {
      "cell_type": "code",
      "metadata": {
        "id": "XbJr-iHuCrGU"
      },
      "source": [
        "# train-test\n",
        "outcomes = vals[:, -1]\n",
        "X_train, y_train = fset_ap.iloc[:100, :], outcomes[:100]\n",
        "X_test, y_test   = fset_ap.iloc[100:, :], outcomes[100:]"
      ],
      "execution_count": 81,
      "outputs": []
    },
    {
      "cell_type": "code",
      "metadata": {
        "id": "CuAfLVTmES3q"
      },
      "source": [
        "# initiate model\n",
        "model = xgb.XGBRegressor(\n",
        "    n_estimators = 20, max_depth = 2, random_state = 21\n",
        "    )"
      ],
      "execution_count": 82,
      "outputs": []
    },
    {
      "cell_type": "code",
      "metadata": {
        "colab": {
          "base_uri": "https://localhost:8080/"
        },
        "id": "Zj-hlCwTES6f",
        "outputId": "91aa84fd-a2fb-4f15-ed93-8628d9cd9ede"
      },
      "source": [
        "# fit model\n",
        "eval_set = [(X_test, y_test)]\n",
        "model.fit(X_train, y_train, eval_metric=\"rmse\", eval_set=eval_set, verbose=True)"
      ],
      "execution_count": 83,
      "outputs": [
        {
          "output_type": "stream",
          "text": [
            "[03:57:15] WARNING: /workspace/src/objective/regression_obj.cu:152: reg:linear is now deprecated in favor of reg:squarederror.\n",
            "[0]\tvalidation_0-rmse:0.454853\n",
            "[1]\tvalidation_0-rmse:0.408914\n",
            "[2]\tvalidation_0-rmse:0.367291\n",
            "[3]\tvalidation_0-rmse:0.330652\n",
            "[4]\tvalidation_0-rmse:0.297609\n",
            "[5]\tvalidation_0-rmse:0.269572\n",
            "[6]\tvalidation_0-rmse:0.241831\n",
            "[7]\tvalidation_0-rmse:0.219749\n",
            "[8]\tvalidation_0-rmse:0.198331\n",
            "[9]\tvalidation_0-rmse:0.178537\n",
            "[10]\tvalidation_0-rmse:0.161809\n",
            "[11]\tvalidation_0-rmse:0.149125\n",
            "[12]\tvalidation_0-rmse:0.137653\n",
            "[13]\tvalidation_0-rmse:0.128714\n",
            "[14]\tvalidation_0-rmse:0.122771\n",
            "[15]\tvalidation_0-rmse:0.118241\n",
            "[16]\tvalidation_0-rmse:0.114619\n",
            "[17]\tvalidation_0-rmse:0.112702\n",
            "[18]\tvalidation_0-rmse:0.112149\n",
            "[19]\tvalidation_0-rmse:0.112382\n"
          ],
          "name": "stdout"
        },
        {
          "output_type": "execute_result",
          "data": {
            "text/plain": [
              "XGBRegressor(base_score=0.5, booster='gbtree', colsample_bylevel=1,\n",
              "             colsample_bynode=1, colsample_bytree=1, gamma=0,\n",
              "             importance_type='gain', learning_rate=0.1, max_delta_step=0,\n",
              "             max_depth=2, min_child_weight=1, missing=None, n_estimators=20,\n",
              "             n_jobs=1, nthread=None, objective='reg:linear', random_state=21,\n",
              "             reg_alpha=0, reg_lambda=1, scale_pos_weight=1, seed=None,\n",
              "             silent=None, subsample=1, verbosity=1)"
            ]
          },
          "metadata": {
            "tags": []
          },
          "execution_count": 83
        }
      ]
    },
    {
      "cell_type": "code",
      "metadata": {
        "colab": {
          "base_uri": "https://localhost:8080/",
          "height": 228
        },
        "id": "3gw_uUeyETAo",
        "outputId": "3dc8af19-bd34-4031-f20e-ad950dbf03b0"
      },
      "source": [
        "# view scatter of train\n",
        "plt.scatter(model.predict(X_train), y_train)"
      ],
      "execution_count": 94,
      "outputs": [
        {
          "output_type": "execute_result",
          "data": {
            "text/plain": [
              "<matplotlib.collections.PathCollection at 0x7fafb92eb690>"
            ]
          },
          "metadata": {
            "tags": []
          },
          "execution_count": 94
        },
        {
          "output_type": "display_data",
          "data": {
            "image/png": "[encoded data removed]",
            "text/plain": [
              "<Figure size 720x216 with 1 Axes>"
            ]
          },
          "metadata": {
            "tags": [],
            "needs_background": "light"
          }
        }
      ]
    },
    {
      "cell_type": "code",
      "metadata": {
        "colab": {
          "base_uri": "https://localhost:8080/",
          "height": 232
        },
        "id": "oaPAGJYpES9v",
        "outputId": "c001bb7a-2bc4-4c3d-ad8c-f734cc7d0caf"
      },
      "source": [
        "# view scatter of test\n",
        "plt.scatter(model.predict(X_test), y_test)"
      ],
      "execution_count": 93,
      "outputs": [
        {
          "output_type": "execute_result",
          "data": {
            "text/plain": [
              "<matplotlib.collections.PathCollection at 0x7fafb937f690>"
            ]
          },
          "metadata": {
            "tags": []
          },
          "execution_count": 93
        },
        {
          "output_type": "display_data",
          "data": {
            "image/png": "[encoded data removed]",
            "text/plain": [
              "<Figure size 720x216 with 1 Axes>"
            ]
          },
          "metadata": {
            "tags": [],
            "needs_background": "light"
          }
        }
      ]
    },
    {
      "cell_type": "code",
      "metadata": {
        "colab": {
          "base_uri": "https://localhost:8080/"
        },
        "id": "4ZhmaV4wETDz",
        "outputId": "688f9c39-d001-4daf-88d6-b0fd8f037e84"
      },
      "source": [
        "# view performance\n",
        "print(pearsonr(model.predict(X_train), y_train))\n",
        "print(pearsonr(model.predict(X_test), y_test))"
      ],
      "execution_count": 96,
      "outputs": [
        {
          "output_type": "stream",
          "text": [
            "(0.7763253592748394, 2.3452056738489926e-21)\n",
            "(0.26575179862682674, 0.1415369090490501)\n"
          ],
          "name": "stdout"
        }
      ]
    },
    {
      "cell_type": "code",
      "metadata": {
        "colab": {
          "base_uri": "https://localhost:8080/",
          "height": 258
        },
        "id": "l01aIIgyETGz",
        "outputId": "4f892f78-1334-41f8-e24b-cdde2b24ad7c"
      },
      "source": [
        "# feature importance\n",
        "xgb.plot_importance(model)"
      ],
      "execution_count": 97,
      "outputs": [
        {
          "output_type": "execute_result",
          "data": {
            "text/plain": [
              "<matplotlib.axes._subplots.AxesSubplot at 0x7fafb9a61ad0>"
            ]
          },
          "metadata": {
            "tags": []
          },
          "execution_count": 97
        },
        {
          "output_type": "display_data",
          "data": {
            "image/png": "[encoded data removed]",
            "text/plain": [
              "<Figure size 720x216 with 1 Axes>"
            ]
          },
          "metadata": {
            "tags": [],
            "needs_background": "light"
          }
        }
      ]
    },
    {
      "cell_type": "code",
      "metadata": {
        "colab": {
          "base_uri": "https://localhost:8080/",
          "height": 204
        },
        "id": "4V5EinJ6ETKF",
        "outputId": "7bfa7368-2196-4fb7-efc4-0f7a157f23eb"
      },
      "source": [
        "# lost of repeating features\n",
        "fset_ap.head()"
      ],
      "execution_count": 98,
      "outputs": [
        {
          "output_type": "execute_result",
          "data": {
            "text/html": [
              "<div>\n",
              "<style scoped>\n",
              "    .dataframe tbody tr th:only-of-type {\n",
              "        vertical-align: middle;\n",
              "    }\n",
              "\n",
              "    .dataframe tbody tr th {\n",
              "        vertical-align: top;\n",
              "    }\n",
              "\n",
              "    .dataframe thead th {\n",
              "        text-align: right;\n",
              "    }\n",
              "</style>\n",
              "<table border=\"1\" class=\"dataframe\">\n",
              "  <thead>\n",
              "    <tr style=\"text-align: right;\">\n",
              "      <th>feature</th>\n",
              "      <th>amplitude</th>\n",
              "      <th>percent_beyond_1_std</th>\n",
              "      <th>skew</th>\n",
              "      <th>max_slope</th>\n",
              "      <th>percent_amplitude</th>\n",
              "    </tr>\n",
              "  </thead>\n",
              "  <tbody>\n",
              "    <tr>\n",
              "      <th>0</th>\n",
              "      <td>0.130513</td>\n",
              "      <td>0.454545</td>\n",
              "      <td>-0.155365</td>\n",
              "      <td>0.261026</td>\n",
              "      <td>0.132121</td>\n",
              "    </tr>\n",
              "    <tr>\n",
              "      <th>1</th>\n",
              "      <td>0.130513</td>\n",
              "      <td>0.545455</td>\n",
              "      <td>0.051772</td>\n",
              "      <td>0.261026</td>\n",
              "      <td>0.128461</td>\n",
              "    </tr>\n",
              "    <tr>\n",
              "      <th>2</th>\n",
              "      <td>0.130513</td>\n",
              "      <td>0.545455</td>\n",
              "      <td>0.037850</td>\n",
              "      <td>0.261026</td>\n",
              "      <td>0.128461</td>\n",
              "    </tr>\n",
              "    <tr>\n",
              "      <th>3</th>\n",
              "      <td>0.130513</td>\n",
              "      <td>0.454545</td>\n",
              "      <td>-0.192651</td>\n",
              "      <td>0.261026</td>\n",
              "      <td>0.132121</td>\n",
              "    </tr>\n",
              "    <tr>\n",
              "      <th>4</th>\n",
              "      <td>0.130513</td>\n",
              "      <td>0.454545</td>\n",
              "      <td>-0.233966</td>\n",
              "      <td>0.261026</td>\n",
              "      <td>0.132121</td>\n",
              "    </tr>\n",
              "  </tbody>\n",
              "</table>\n",
              "</div>"
            ],
            "text/plain": [
              "feature  amplitude  percent_beyond_1_std  ...  max_slope  percent_amplitude\n",
              "0         0.130513              0.454545  ...   0.261026           0.132121\n",
              "1         0.130513              0.545455  ...   0.261026           0.128461\n",
              "2         0.130513              0.545455  ...   0.261026           0.128461\n",
              "3         0.130513              0.454545  ...   0.261026           0.132121\n",
              "4         0.130513              0.454545  ...   0.261026           0.132121\n",
              "\n",
              "[5 rows x 5 columns]"
            ]
          },
          "metadata": {
            "tags": []
          },
          "execution_count": 98
        }
      ]
    },
    {
      "cell_type": "code",
      "metadata": {
        "colab": {
          "base_uri": "https://localhost:8080/",
          "height": 228
        },
        "id": "H_bZQNFdCrI5",
        "outputId": "699c530a-3ea5-47b1-bf63-0f19c56db724"
      },
      "source": [
        "# need features that explains shape\n",
        "plt.plot(vals[0])\n",
        "plt.plot(vals[1])\n",
        "plt.plot(vals[2])"
      ],
      "execution_count": 100,
      "outputs": [
        {
          "output_type": "execute_result",
          "data": {
            "text/plain": [
              "[<matplotlib.lines.Line2D at 0x7fafb91ce5d0>]"
            ]
          },
          "metadata": {
            "tags": []
          },
          "execution_count": 100
        },
        {
          "output_type": "display_data",
          "data": {
            "image/png": "[encoded data removed]",
            "text/plain": [
              "<Figure size 720x216 with 1 Axes>"
            ]
          },
          "metadata": {
            "tags": [],
            "needs_background": "light"
          }
        }
      ]
    },
    {
      "cell_type": "markdown",
      "metadata": {
        "id": "ZBiRPd6AFaMz"
      },
      "source": [
        "## New Features"
      ]
    },
    {
      "cell_type": "code",
      "metadata": {
        "id": "JreoWX-TFZqD"
      },
      "source": [
        "# new features\n",
        "feats = np.zeros( (vals.shape[0], 6), dtype = np.float32)\n",
        "for i in range(vals.shape[0]):\n",
        "    feats[i, 0] = np.where(vals[i] == np.max(vals[i]))[0][0]\n",
        "    feats[i, 1] = np.where(vals[i] == np.min(vals[i]))[0][0]\n",
        "    feats[i, 2] = feats[i, 0] - feats[i, 1]\n",
        "    feats[i, 3] = np.max(vals[i][-3:])\n",
        "    feats[i, 4] = vals[i][-1] - vals[i][-2]\n",
        "    feats[i, 5] = vals[i][-1] - vals[i][-3]"
      ],
      "execution_count": 101,
      "outputs": []
    },
    {
      "cell_type": "markdown",
      "metadata": {
        "id": "UJp543k1Fi4a"
      },
      "source": [
        "## New Model"
      ]
    },
    {
      "cell_type": "code",
      "metadata": {
        "id": "sOzGp1RmFZwy"
      },
      "source": [
        "# train-test\n",
        "X_train, y_train = feats[:100, :], outcomes[:100]\n",
        "X_test, y_test   = feats[100:, :], outcomes[100:]"
      ],
      "execution_count": 105,
      "outputs": []
    },
    {
      "cell_type": "code",
      "metadata": {
        "colab": {
          "base_uri": "https://localhost:8080/"
        },
        "id": "OmyDCX2SFZ0D",
        "outputId": "f655c871-0c44-469d-878c-0f50ebfe9e0a"
      },
      "source": [
        "# initiate & fit\n",
        "model = xgb.XGBRegressor(n_estimators=20, max_depth=2,\n",
        "                              random_state=21)\n",
        "eval_set = [(X_test, y_test)]\n",
        "model.fit(X_train, y_train, eval_metric=\"rmse\", eval_set=eval_set, verbose=True)"
      ],
      "execution_count": 106,
      "outputs": [
        {
          "output_type": "stream",
          "text": [
            "[04:01:37] WARNING: /workspace/src/objective/regression_obj.cu:152: reg:linear is now deprecated in favor of reg:squarederror.\n",
            "[0]\tvalidation_0-rmse:0.459744\n",
            "[1]\tvalidation_0-rmse:0.418616\n",
            "[2]\tvalidation_0-rmse:0.380625\n",
            "[3]\tvalidation_0-rmse:0.346577\n",
            "[4]\tvalidation_0-rmse:0.315931\n",
            "[5]\tvalidation_0-rmse:0.287931\n",
            "[6]\tvalidation_0-rmse:0.263988\n",
            "[7]\tvalidation_0-rmse:0.241361\n",
            "[8]\tvalidation_0-rmse:0.222136\n",
            "[9]\tvalidation_0-rmse:0.205052\n",
            "[10]\tvalidation_0-rmse:0.189806\n",
            "[11]\tvalidation_0-rmse:0.175841\n",
            "[12]\tvalidation_0-rmse:0.162495\n",
            "[13]\tvalidation_0-rmse:0.150479\n",
            "[14]\tvalidation_0-rmse:0.139907\n",
            "[15]\tvalidation_0-rmse:0.131403\n",
            "[16]\tvalidation_0-rmse:0.122909\n",
            "[17]\tvalidation_0-rmse:0.115215\n",
            "[18]\tvalidation_0-rmse:0.108389\n",
            "[19]\tvalidation_0-rmse:0.102514\n"
          ],
          "name": "stdout"
        },
        {
          "output_type": "execute_result",
          "data": {
            "text/plain": [
              "XGBRegressor(base_score=0.5, booster='gbtree', colsample_bylevel=1,\n",
              "             colsample_bynode=1, colsample_bytree=1, gamma=0,\n",
              "             importance_type='gain', learning_rate=0.1, max_delta_step=0,\n",
              "             max_depth=2, min_child_weight=1, missing=None, n_estimators=20,\n",
              "             n_jobs=1, nthread=None, objective='reg:linear', random_state=21,\n",
              "             reg_alpha=0, reg_lambda=1, scale_pos_weight=1, seed=None,\n",
              "             silent=None, subsample=1, verbosity=1)"
            ]
          },
          "metadata": {
            "tags": []
          },
          "execution_count": 106
        }
      ]
    },
    {
      "cell_type": "code",
      "metadata": {
        "colab": {
          "base_uri": "https://localhost:8080/",
          "height": 228
        },
        "id": "Xx8j9sqZFzUb",
        "outputId": "4983733c-cf89-4774-9b26-5af41387c8f6"
      },
      "source": [
        "# scatter of train\n",
        "plt.scatter(model.predict(X_train), y_train)"
      ],
      "execution_count": 110,
      "outputs": [
        {
          "output_type": "execute_result",
          "data": {
            "text/plain": [
              "<matplotlib.collections.PathCollection at 0x7fafb906cc50>"
            ]
          },
          "metadata": {
            "tags": []
          },
          "execution_count": 110
        },
        {
          "output_type": "display_data",
          "data": {
            "image/png": "[encoded data removed]",
            "text/plain": [
              "<Figure size 720x216 with 1 Axes>"
            ]
          },
          "metadata": {
            "tags": [],
            "needs_background": "light"
          }
        }
      ]
    },
    {
      "cell_type": "code",
      "metadata": {
        "colab": {
          "base_uri": "https://localhost:8080/"
        },
        "id": "JFZHJkijFQYY",
        "outputId": "4ffc1203-f3eb-4fdb-a652-1160388767d4"
      },
      "source": [
        "print(pearsonr(model.predict(X_train), y_train))\n",
        "print(spearmanr(model.predict(X_train), y_train))"
      ],
      "execution_count": 111,
      "outputs": [
        {
          "output_type": "stream",
          "text": [
            "(0.9574312130551085, 1.1011058590058442e-54)\n",
            "SpearmanrResult(correlation=0.9608384510376272, pvalue=2.0044276644436398e-56)\n"
          ],
          "name": "stdout"
        }
      ]
    },
    {
      "cell_type": "code",
      "metadata": {
        "colab": {
          "base_uri": "https://localhost:8080/",
          "height": 232
        },
        "id": "JiPPJWcvFZ2S",
        "outputId": "cc2b75af-32db-4a91-cbd1-b43777ef4145"
      },
      "source": [
        "# scatter of test\n",
        "plt.scatter(model.predict(X_test), y_test)"
      ],
      "execution_count": 112,
      "outputs": [
        {
          "output_type": "execute_result",
          "data": {
            "text/plain": [
              "<matplotlib.collections.PathCollection at 0x7fafb904f8d0>"
            ]
          },
          "metadata": {
            "tags": []
          },
          "execution_count": 112
        },
        {
          "output_type": "display_data",
          "data": {
            "image/png": "[encoded data removed]",
            "text/plain": [
              "<Figure size 720x216 with 1 Axes>"
            ]
          },
          "metadata": {
            "tags": [],
            "needs_background": "light"
          }
        }
      ]
    },
    {
      "cell_type": "code",
      "metadata": {
        "colab": {
          "base_uri": "https://localhost:8080/"
        },
        "id": "FHML0P9oFZ5r",
        "outputId": "362d995a-641b-4d78-98f3-2565b6f9c17f"
      },
      "source": [
        "print(pearsonr(model.predict(X_test), y_test))\n",
        "print(spearmanr(model.predict(X_test), y_test))"
      ],
      "execution_count": 113,
      "outputs": [
        {
          "output_type": "stream",
          "text": [
            "(0.8295710199019659, 4.3988566454564714e-09)\n",
            "SpearmanrResult(correlation=0.8506737877812696, pvalue=7.029762268431634e-10)\n"
          ],
          "name": "stdout"
        }
      ]
    },
    {
      "cell_type": "code",
      "metadata": {
        "id": "M1FK2YUKF8ZC"
      },
      "source": [
        ""
      ],
      "execution_count": null,
      "outputs": []
    }
  ]
}