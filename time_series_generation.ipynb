{
  "nbformat": 4,
  "nbformat_minor": 0,
  "metadata": {
    "colab": {
      "name": "time_series_generation.ipynb",
      "provenance": [],
      "collapsed_sections": [],
      "authorship_tag": "ABX9TyO/4Nh8L6YF/4slYkRe0m/D",
      "include_colab_link": true
    },
    "kernelspec": {
      "name": "python3",
      "display_name": "Python 3"
    }
  },
  "cells": [
    {
      "cell_type": "markdown",
      "metadata": {
        "id": "view-in-github",
        "colab_type": "text"
      },
      "source": [
        "<a href=\"https://colab.research.google.com/github/hiydavid/time_series_forecasting/blob/main/time_series_generation.ipynb\" target=\"_parent\"><img src=\"https://colab.research.google.com/assets/colab-badge.svg\" alt=\"Open In Colab\"/></a>"
      ]
    },
    {
      "cell_type": "markdown",
      "metadata": {
        "id": "l5msgAezfAIy"
      },
      "source": [
        "# Time Series Generation"
      ]
    },
    {
      "cell_type": "code",
      "metadata": {
        "id": "AKGsvStvgqi3"
      },
      "source": [
        "# load basic libraries\n",
        "import numpy as np\n",
        "import pandas as pd\n",
        "import matplotlib.pyplot as plt"
      ],
      "execution_count": 1,
      "outputs": []
    },
    {
      "cell_type": "code",
      "metadata": {
        "id": "MUhv6dVPe5WV"
      },
      "source": [
        "# function to generate multiple univariate time series\n",
        "\n",
        "'''\n",
        "This function creates multiple time series, each the sum of two sine waves of \n",
        "fixed amplitudes, but randome frequencies and phgases, plus a bit of noise. \n",
        "This function is taken from page 504 of Hands-On Machine Learning with Scikit-\n",
        "Learn, Keras, and TensorFlow. \n",
        "\n",
        "Arguments:\n",
        "    > batch_size : number of different time series\n",
        "    > n_steps    : length of each time seris \n",
        "\n",
        "Return:\n",
        "    > NumPy array of shape batch_size x n_steps x 1.\n",
        "'''\n",
        "\n",
        "def generate_time_series(batch_size, n_steps):\n",
        "    freq1, freq2, offsets1, offsets2 = np.random.rand(4, batch_size, 1)\n",
        "    time = np.linspace(0, 1, n_steps)\n",
        "    series = 0.5 * np.sin((time - offsets1) * (freq1 * 10 + 10))    # wave 1\n",
        "    series += 0.2 * np.sin((time - offsets2) * (freq2 * 20 + 20))   # wave 2\n",
        "    series += 0.1 * (np.random.rand(batch_size, n_steps) - 0.5)     # noise\n",
        "    return series[..., np.newaxis].astype(np.float32)"
      ],
      "execution_count": 2,
      "outputs": []
    },
    {
      "cell_type": "code",
      "metadata": {
        "colab": {
          "base_uri": "https://localhost:8080/",
          "height": 282
        },
        "id": "amxmKDv9fZpj",
        "outputId": "25c1e7e2-0c6a-4161-a45d-9a8793804dae"
      },
      "source": [
        "# generate time series\n",
        "n_steps = 500\n",
        "series = generate_time_series(1, n_steps + 1)\n",
        "pd.DataFrame(series[0]).plot()"
      ],
      "execution_count": 3,
      "outputs": [
        {
          "output_type": "execute_result",
          "data": {
            "text/plain": [
              "<matplotlib.axes._subplots.AxesSubplot at 0x7f10dd3d6f10>"
            ]
          },
          "metadata": {
            "tags": []
          },
          "execution_count": 3
        },
        {
          "output_type": "display_data",
          "data": {
            "image/png": "[encoded data removed]",
            "text/plain": [
              "<Figure size 432x288 with 1 Axes>"
            ]
          },
          "metadata": {
            "tags": [],
            "needs_background": "light"
          }
        }
      ]
    },
    {
      "cell_type": "code",
      "metadata": {
        "id": "CJ8XEqLXjdky"
      },
      "source": [
        ""
      ],
      "execution_count": 3,
      "outputs": []
    }
  ]
}